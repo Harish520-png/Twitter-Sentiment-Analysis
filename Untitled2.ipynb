{
 "cells": [
  {
   "cell_type": "code",
   "execution_count": 14,
   "id": "d3c47462",
   "metadata": {},
   "outputs": [],
   "source": [
    "from tkinter import *   \n",
    "from tkinter import messagebox\n",
    "from PIL import Image\n",
    " \n",
    "top = Tk()  \n",
    "  \n",
    "top.geometry(\"500x400\")  \n",
    "  \n",
    "def fun():  \n",
    "    im = Image.open('ji.jpeg')\n",
    " \n",
    "    im.show()\n",
    "  \n",
    "  \n",
    "b1 = Button(top,text = \"Red\",command = fun,activeforeground = \"red\",activebackground = \"pink\",pady=10)  \n",
    "  \n",
    "b2 = Button(top, text = \"Blue\",activeforeground = \"blue\",activebackground = \"pink\",pady=10)  \n",
    "  \n",
    "b3 = Button(top, text = \"Green\",activeforeground = \"green\",activebackground = \"pink\",pady = 10)  \n",
    "  \n",
    "b4 = Button(top, text = \"Yellow\",activeforeground = \"yellow\",activebackground = \"pink\",pady = 10)  \n",
    "  \n",
    "\n",
    "b1.pack(side = LEFT)  \n",
    "  \n",
    "b2.pack(side = LEFT)  \n",
    "  \n",
    "b3.pack(side = LEFT)  \n",
    "  \n",
    "b4.pack(side = LEFT)  \n",
    "  \n",
    "top.mainloop()  "
   ]
  },
  {
   "cell_type": "code",
   "execution_count": 12,
   "id": "c106807e",
   "metadata": {},
   "outputs": [],
   "source": [
    "from PIL import Image\n",
    " \n",
    "# creating a object\n",
    "im = Image.open('ji.jpeg')\n",
    " \n",
    "im.show()"
   ]
  },
  {
   "cell_type": "code",
   "execution_count": null,
   "id": "177362ae",
   "metadata": {},
   "outputs": [],
   "source": []
  }
 ],
 "metadata": {
  "kernelspec": {
   "display_name": "Python 3 (ipykernel)",
   "language": "python",
   "name": "python3"
  },
  "language_info": {
   "codemirror_mode": {
    "name": "ipython",
    "version": 3
   },
   "file_extension": ".py",
   "mimetype": "text/x-python",
   "name": "python",
   "nbconvert_exporter": "python",
   "pygments_lexer": "ipython3",
   "version": "3.9.7"
  }
 },
 "nbformat": 4,
 "nbformat_minor": 5
}
