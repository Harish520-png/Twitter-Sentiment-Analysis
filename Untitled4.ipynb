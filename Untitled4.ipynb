{
 "cells": [
  {
   "cell_type": "code",
   "execution_count": 1,
   "id": "0ffc0b5f",
   "metadata": {},
   "outputs": [
    {
     "name": "stderr",
     "output_type": "stream",
     "text": [
      "2023-01-23 07:21:43.987933: I tensorflow/core/platform/cpu_feature_guard.cc:193] This TensorFlow binary is optimized with oneAPI Deep Neural Network Library (oneDNN) to use the following CPU instructions in performance-critical operations:  AVX2 FMA\n",
      "To enable them in other operations, rebuild TensorFlow with the appropriate compiler flags.\n"
     ]
    }
   ],
   "source": [
    "import spacy\n",
    "import  pandas as pd\n",
    "import numpy as np\n",
    "import sklearn as sk\n",
    "import matplotlib.pyplot as plt\n",
    "import seaborn as sns"
   ]
  },
  {
   "cell_type": "code",
   "execution_count": 2,
   "id": "e27667c2",
   "metadata": {},
   "outputs": [
    {
     "name": "stdout",
     "output_type": "stream",
     "text": [
      "['become', 'we', 'anywhere', 'rather', 'make', 'otherwise', 'mine', 'wherever', 'fifty', 'hereafter', 'twenty', 'under', 'really', 'us', 'noone', 'if', 'another', 'various', 'none', 'although', '‘d', '‘m', 'here', 'against', 'go', 'call', 'get', 'across', 'n’t', 'there', 'eleven', 'will', 'becomes', \"'ll\", 'which', 'what', 'already', 'after', 'some', 'herself', 'did', 'when', 'until', 'she', 'neither', 'see', 'mostly', 'eight', 'too', 'nothing', 'else', 'one', 'always', 'its', 'wherein', 'forty', 'thereupon', 'am', 'whoever', 'well', \"n't\", 'while', 'an', 'part', 'ten', 'ever', 'becoming', 'along', 'show', 'over', 'first', 'behind', 'would', 'from', 'together', 'me', 'have', 'cannot', 'at', 'however', 'they', 'anyone', 'into', 'seem', 'indeed', 'of', 'amongst', 'above', 'once', 'through', 'to', 'next', 'again', 'almost', '’ll', 're', '‘ll', 'those', 'therefore', 'twelve', 'serious', 'front', 'somehow', 'him', 'everywhere', 'their', 'back', 'being', 'where', 'yours', 'something', 'thereafter', 'seems', 'your', '‘re', 'last', 'more', 'say', 'thereby', 'n‘t', '’ve', 'thence', 'others', '’re', 'onto', '’s', 'nowhere', 'former', 'therein', 'whereafter', 'since', 'keep', 'move', 'whence', 'whereby', 'everything', 'a', 'whether', 'everyone', 'throughout', 'third', '‘ve', 'enough', 'i', 'between', \"'s\", 'among', 'besides', 'seemed', 'how', 'became', 'all', 'fifteen', 'himself', 'further', 'toward', 'someone', 'used', 'every', 'them', 'anyway', 'quite', 'empty', 'had', 'so', 'itself', 'with', 'in', 'both', '‘s', 'much', 'sometimes', 'give', 'thus', 'hundred', 'this', 'before', 'two', 'herein', 'five', 'and', 'he', '’d', 'please', 'is', 'least', 'up', 'namely', 'hence', 'whither', 'his', 'the', 'could', 'unless', 'myself', 'just', 'off', 'it', 'anyhow', 'six', 'does', 'take', 'very', 'still', 'be', 'within', 'same', 'beside', 'doing', 'elsewhere', 'or', 'most', 'latter', 'put', 'whenever', 'done', 'except', 'our', 'though', 'not', 'during', 'but', 'upon', 'less', 'sixty', \"'m\", 'out', 'must', 'whom', 'alone', 'yourselves', 'without', 'somewhere', 'who', 'these', 'as', 'four', 'other', 'full', 'were', 'few', 'for', 'may', 'yourself', 'afterwards', 'been', 'nevertheless', 'nobody', 'my', 'sometime', 'ours', 'name', 'anything', 'moreover', 'yet', 'ourselves', 'top', 'per', 'are', 'whose', 'whatever', 'nine', 'thru', 'many', 'ca', 'might', 'hers', 'hereby', 'should', 'beforehand', 'beyond', 'latterly', 'several', 'down', 'using', 'meanwhile', 'each', 'nor', 'why', 'on', 'because', 'side', 'whereas', 'whereupon', 'themselves', 'regarding', 'was', 'about', 'her', 'towards', 'then', 'do', '’m', 'never', \"'d\", 'only', 'no', 'any', 'has', 'seeming', 'made', 'amount', 'can', 'own', 'three', 'you', 'by', 'formerly', 'now', 'bottom', 'hereupon', 'perhaps', 'than', 'due', 'that', \"'re\", 'via', 'also', 'either', 'even', \"'ve\", 'below', 'whole', 'around', 'often', 'such']\n"
     ]
    }
   ],
   "source": [
    "import spacy\n",
    "import en_core_web_sm\n",
    "from  spacy.lang.en.stop_words import STOP_WORDS\n",
    "nlp = en_core_web_sm.load()\n",
    "#nlp = spacy.load('en')\n",
    "\n",
    "# To build a list of stop words for filtering\n",
    "stopwords = list(STOP_WORDS)\n",
    "print(stopwords)"
   ]
  },
  {
   "cell_type": "code",
   "execution_count": 3,
   "id": "34fa5be3",
   "metadata": {},
   "outputs": [],
   "source": [
    "import string\n",
    "punctuations = string.punctuation\n",
    "# Creating a Spacy Parser\n",
    "from spacy.lang.en import English\n",
    "parser = English()"
   ]
  },
  {
   "cell_type": "code",
   "execution_count": 4,
   "id": "ba00de52",
   "metadata": {},
   "outputs": [],
   "source": [
    "def my_tokenizer(sentence):\n",
    "    mytokens = parser(sentence)\n",
    "    mytokens = [ word.lemma_.lower().strip() if word.lemma_ != \"-PRON-\" else word.lower_ for word in mytokens ]\n",
    "    mytokens = [ word for word in mytokens if word not in stopwords and word not in punctuations ]\n",
    "    return mytokens"
   ]
  },
  {
   "cell_type": "code",
   "execution_count": 5,
   "id": "731fd3da",
   "metadata": {},
   "outputs": [],
   "source": [
    "# ML Packages\n",
    "from sklearn.feature_extraction.text import CountVectorizer,TfidfVectorizer\n",
    "from sklearn.metrics import accuracy_score \n",
    "from sklearn.base import TransformerMixin \n",
    "from sklearn.pipeline import Pipeline\n",
    "from sklearn.svm import LinearSVC"
   ]
  },
  {
   "cell_type": "code",
   "execution_count": 6,
   "id": "221352ec",
   "metadata": {},
   "outputs": [],
   "source": [
    "#Custom transformer using spaCy \n",
    "class predictors(TransformerMixin):\n",
    "    def transform(self, X, **transform_params):\n",
    "        return [clean_text(text) for text in X]\n",
    "    def fit(self, X, y, **fit_params):\n",
    "        return self\n",
    "    def get_params(self, deep=True):\n",
    "        return {}\n",
    "\n",
    "# Basic function to clean the text \n",
    "def clean_text(text):     \n",
    "    return text.strip().lower()"
   ]
  },
  {
   "cell_type": "code",
   "execution_count": 7,
   "id": "c3139342",
   "metadata": {},
   "outputs": [
    {
     "ename": "NameError",
     "evalue": "name 'spacy_tokenizer' is not defined",
     "output_type": "error",
     "traceback": [
      "\u001b[0;31m---------------------------------------------------------------------------\u001b[0m",
      "\u001b[0;31mNameError\u001b[0m                                 Traceback (most recent call last)",
      "\u001b[0;32m/var/folders/98/dj_btrjx7ld0k1v5cwshsppw0000gp/T/ipykernel_8464/2180528959.py\u001b[0m in \u001b[0;36m<module>\u001b[0;34m\u001b[0m\n\u001b[1;32m      1\u001b[0m \u001b[0;31m# Vectorization\u001b[0m\u001b[0;34m\u001b[0m\u001b[0;34m\u001b[0m\u001b[0m\n\u001b[0;32m----> 2\u001b[0;31m \u001b[0mvectorizer\u001b[0m \u001b[0;34m=\u001b[0m \u001b[0mCountVectorizer\u001b[0m\u001b[0;34m(\u001b[0m\u001b[0mtokenizer\u001b[0m \u001b[0;34m=\u001b[0m \u001b[0mspacy_tokenizer\u001b[0m\u001b[0;34m,\u001b[0m \u001b[0mngram_range\u001b[0m\u001b[0;34m=\u001b[0m\u001b[0;34m(\u001b[0m\u001b[0;36m1\u001b[0m\u001b[0;34m,\u001b[0m\u001b[0;36m1\u001b[0m\u001b[0;34m)\u001b[0m\u001b[0;34m)\u001b[0m\u001b[0;34m\u001b[0m\u001b[0;34m\u001b[0m\u001b[0m\n\u001b[0m\u001b[1;32m      3\u001b[0m \u001b[0mclassifier\u001b[0m \u001b[0;34m=\u001b[0m \u001b[0mLinearSVC\u001b[0m\u001b[0;34m(\u001b[0m\u001b[0;34m)\u001b[0m\u001b[0;34m\u001b[0m\u001b[0;34m\u001b[0m\u001b[0m\n",
      "\u001b[0;31mNameError\u001b[0m: name 'spacy_tokenizer' is not defined"
     ]
    }
   ],
   "source": [
    "# Vectorization\n",
    "vectorizer = CountVectorizer(tokenizer = spacy_tokenizer, ngram_range=(1,1)) \n",
    "classifier = LinearSVC()"
   ]
  },
  {
   "cell_type": "code",
   "execution_count": 8,
   "id": "52ecd65c",
   "metadata": {},
   "outputs": [],
   "source": [
    "from sklearn.model_selection import train_test_split\n"
   ]
  },
  {
   "cell_type": "code",
   "execution_count": null,
   "id": "b4c37168",
   "metadata": {},
   "outputs": [],
   "source": []
  }
 ],
 "metadata": {
  "kernelspec": {
   "display_name": "Python 3 (ipykernel)",
   "language": "python",
   "name": "python3"
  },
  "language_info": {
   "codemirror_mode": {
    "name": "ipython",
    "version": 3
   },
   "file_extension": ".py",
   "mimetype": "text/x-python",
   "name": "python",
   "nbconvert_exporter": "python",
   "pygments_lexer": "ipython3",
   "version": "3.9.7"
  }
 },
 "nbformat": 4,
 "nbformat_minor": 5
}
