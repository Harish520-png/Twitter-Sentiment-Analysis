{
 "cells": [
  {
   "cell_type": "code",
   "execution_count": 4,
   "id": "9964f828",
   "metadata": {},
   "outputs": [
    {
     "name": "stdout",
     "output_type": "stream",
     "text": [
      "['Hi my name is Uzair.', 'I studied from IBA.', 'And live in Karachi Pakistan']\n"
     ]
    }
   ],
   "source": [
    "from nltk.tokenize import sent_tokenize\n",
    "text = \"Hi my name is Uzair. I studied from IBA. And live in Karachi Pakistan\"\n",
    "sent=sent_tokenize(text)\n",
    "print(sent)\n",
    "#sent is a list"
   ]
  },
  {
   "cell_type": "code",
   "execution_count": 5,
   "id": "d18c1de8",
   "metadata": {},
   "outputs": [
    {
     "name": "stdout",
     "output_type": "stream",
     "text": [
      "['Hi', 'my', 'name', 'is', 'Uzair', '.', 'I', 'studied', 'from', 'IBA', '.', 'And', 'live', 'in', 'Pakistan']\n"
     ]
    }
   ],
   "source": [
    "from nltk.tokenize import word_tokenize\n",
    "text = \"Hi my name is Uzair. I studied from IBA. And live in Pakistan\"\n",
    "words=word_tokenize(text)\n",
    "print(words)\n",
    "#words is a list"
   ]
  },
  {
   "cell_type": "code",
   "execution_count": 21,
   "id": "d33880cd",
   "metadata": {},
   "outputs": [
    {
     "name": "stdout",
     "output_type": "stream",
     "text": [
      "STOPWORDS----------------------------\n",
      "['i', 'me', 'my', 'myself', 'we', 'our', 'ours', 'ourselves', 'you', \"you're\", \"you've\", \"you'll\", \"you'd\", 'your', 'yours', 'yourself', 'yourselves', 'he', 'him', 'his', 'himself', 'she', \"she's\", 'her', 'hers', 'herself', 'it', \"it's\", 'its', 'itself', 'they', 'them', 'their', 'theirs', 'themselves', 'what', 'which', 'who', 'whom', 'this', 'that', \"that'll\", 'these', 'those', 'am', 'is', 'are', 'was', 'were', 'be', 'been', 'being', 'have', 'has', 'had', 'having', 'do', 'does', 'did', 'doing', 'a', 'an', 'the', 'and', 'but', 'if', 'or', 'because', 'as', 'until', 'while', 'of', 'at', 'by', 'for', 'with', 'about', 'against', 'between', 'into', 'through', 'during', 'before', 'after', 'above', 'below', 'to', 'from', 'up', 'down', 'in', 'out', 'on', 'off', 'over', 'under', 'again', 'further', 'then', 'once', 'here', 'there', 'when', 'where', 'why', 'how', 'all', 'any', 'both', 'each', 'few', 'more', 'most', 'other', 'some', 'such', 'no', 'nor', 'not', 'only', 'own', 'same', 'so', 'than', 'too', 'very', 's', 't', 'can', 'will', 'just', 'don', \"don't\", 'should', \"should've\", 'now', 'd', 'll', 'm', 'o', 're', 've', 'y', 'ain', 'aren', \"aren't\", 'couldn', \"couldn't\", 'didn', \"didn't\", 'doesn', \"doesn't\", 'hadn', \"hadn't\", 'hasn', \"hasn't\", 'haven', \"haven't\", 'isn', \"isn't\", 'ma', 'mightn', \"mightn't\", 'mustn', \"mustn't\", 'needn', \"needn't\", 'shan', \"shan't\", 'shouldn', \"shouldn't\", 'wasn', \"wasn't\", 'weren', \"weren't\", 'won', \"won't\", 'wouldn', \"wouldn't\"]\n",
      "\n",
      "\n",
      "SENTENCE----------------------------\n",
      "Hi my name is Uzair.\n",
      "I studied from IBA.\n",
      "and live in Pakistan\n",
      "\n",
      "\n",
      "WORDS-------------------------------\n",
      "['Hi', 'my', 'name', 'is', 'Uzair', '.', 'I', 'studied', 'from', 'IBA', '.', 'and', 'live', 'in', 'Pakistan']\n",
      "\n",
      "\n",
      "WITHOUT STOP WORDS------------------\n",
      "['Hi', 'name', 'Uzair', '.', 'I', 'studied', 'IBA', '.', 'live', 'Pakistan']\n"
     ]
    }
   ],
   "source": [
    "from nltk.corpus import stopwords\n",
    "from nltk.tokenize import word_tokenize\n",
    "from nltk.tokenize import sent_tokenize\n",
    "\n",
    "swords=stopwords.words('english')\n",
    "print('STOPWORDS----------------------------')\n",
    "print(swords)\n",
    "\n",
    "print('\\n')\n",
    "\n",
    "text=\"Hi my name is Uzair. I studied from IBA. and live in Pakistan\"\n",
    "\n",
    "sent=sent_tokenize(text)\n",
    "print('SENTENCE----------------------------')\n",
    "for i in sent:\n",
    "    print(i)\n",
    "print('\\n')\n",
    "\n",
    "words=word_tokenize(text)\n",
    "print('WORDS-------------------------------')\n",
    "print(words)\n",
    "print('\\n')\n",
    "\n",
    "l=[]\n",
    "for i in words:\n",
    "    if i not in swords:\n",
    "        l.append(i)\n",
    "        \n",
    "print('WITHOUT STOP WORDS------------------')\n",
    "print(l)\n",
    "        "
   ]
  },
  {
   "cell_type": "code",
   "execution_count": 19,
   "id": "e28847f9",
   "metadata": {},
   "outputs": [
    {
     "data": {
      "text/plain": [
       "['plot', ':', 'two', 'teen', 'couples', 'go', 'to', ...]"
      ]
     },
     "execution_count": 19,
     "metadata": {},
     "output_type": "execute_result"
    }
   ],
   "source": [
    "from nltk.corpus import movie_reviews\n",
    "\n",
    "movie_reviews.words()"
   ]
  },
  {
   "cell_type": "code",
   "execution_count": 20,
   "id": "ddd21c4f",
   "metadata": {},
   "outputs": [
    {
     "name": "stdout",
     "output_type": "stream",
     "text": [
      "0.710579\n"
     ]
    }
   ],
   "source": []
  },
  {
   "cell_type": "code",
   "execution_count": 28,
   "id": "d93540ba",
   "metadata": {},
   "outputs": [
    {
     "name": "stdout",
     "output_type": "stream",
     "text": [
      "USELESS WORDS----------------------\n",
      "['!', '\"', '#', '$', '%', '&', \"'\", '(', ')', '*', '+', ',', '-', '.', '/', ':', ';', '<', '=', '>', '?', '@', '[', '\\\\', ']', '^', '_', '`', '{', '|', '}', '~', 'i', 'me', 'my', 'myself', 'we', 'our', 'ours', 'ourselves', 'you', \"you're\", \"you've\", \"you'll\", \"you'd\", 'your', 'yours', 'yourself', 'yourselves', 'he', 'him', 'his', 'himself', 'she', \"she's\", 'her', 'hers', 'herself', 'it', \"it's\", 'its', 'itself', 'they', 'them', 'their', 'theirs', 'themselves', 'what', 'which', 'who', 'whom', 'this', 'that', \"that'll\", 'these', 'those', 'am', 'is', 'are', 'was', 'were', 'be', 'been', 'being', 'have', 'has', 'had', 'having', 'do', 'does', 'did', 'doing', 'a', 'an', 'the', 'and', 'but', 'if', 'or', 'because', 'as', 'until', 'while', 'of', 'at', 'by', 'for', 'with', 'about', 'against', 'between', 'into', 'through', 'during', 'before', 'after', 'above', 'below', 'to', 'from', 'up', 'down', 'in', 'out', 'on', 'off', 'over', 'under', 'again', 'further', 'then', 'once', 'here', 'there', 'when', 'where', 'why', 'how', 'all', 'any', 'both', 'each', 'few', 'more', 'most', 'other', 'some', 'such', 'no', 'nor', 'not', 'only', 'own', 'same', 'so', 'than', 'too', 'very', 's', 't', 'can', 'will', 'just', 'don', \"don't\", 'should', \"should've\", 'now', 'd', 'll', 'm', 'o', 're', 've', 'y', 'ain', 'aren', \"aren't\", 'couldn', \"couldn't\", 'didn', \"didn't\", 'doesn', \"doesn't\", 'hadn', \"hadn't\", 'hasn', \"hasn't\", 'haven', \"haven't\", 'isn', \"isn't\", 'ma', 'mightn', \"mightn't\", 'mustn', \"mustn't\", 'needn', \"needn't\", 'shan', \"shan't\", 'shouldn', \"shouldn't\", 'wasn', \"wasn't\", 'weren', \"weren't\", 'won', \"won't\", 'wouldn', \"wouldn't\"]\n"
     ]
    }
   ],
   "source": [
    "import string\n",
    "punctuation=list(string.punctuation)\n",
    "\n",
    "from nltk.corpus import stopwords\n",
    "swords=stopwords.words('english')\n",
    "\n",
    "useless=punctuation+swords\n",
    "print('USELESS WORDS----------------------')\n",
    "print(useless)\n"
   ]
  },
  {
   "cell_type": "code",
   "execution_count": 24,
   "id": "9f2345c3",
   "metadata": {},
   "outputs": [
    {
     "name": "stdout",
     "output_type": "stream",
     "text": [
      "[1, 2, 4, 6, 7, 8]\n"
     ]
    }
   ],
   "source": [
    "l=[1,2,4]\n",
    "k=[6,7,8]\n",
    "g=l+k\n",
    "print(g)"
   ]
  },
  {
   "cell_type": "code",
   "execution_count": 33,
   "id": "b492502f",
   "metadata": {},
   "outputs": [
    {
     "data": {
      "text/plain": [
       "1583820"
      ]
     },
     "execution_count": 33,
     "metadata": {},
     "output_type": "execute_result"
    }
   ],
   "source": [
    "from nltk.corpus import movie_reviews\n",
    "\n",
    "len(movie_reviews.words())"
   ]
  },
  {
   "cell_type": "code",
   "execution_count": 35,
   "id": "805897ce",
   "metadata": {},
   "outputs": [
    {
     "data": {
      "text/plain": [
       "['plot', ':', 'two', 'teen', 'couples', 'go', 'to', ...]"
      ]
     },
     "execution_count": 35,
     "metadata": {},
     "output_type": "execute_result"
    }
   ],
   "source": [
    "movie_reviews.words()"
   ]
  },
  {
   "cell_type": "code",
   "execution_count": 37,
   "id": "2aca931f",
   "metadata": {
    "scrolled": true
   },
   "outputs": [
    {
     "name": "stdout",
     "output_type": "stream",
     "text": [
      "USELESS WORDS----------------------\n",
      "['!', '\"', '#', '$', '%', '&', \"'\", '(', ')', '*', '+', ',', '-', '.', '/', ':', ';', '<', '=', '>', '?', '@', '[', '\\\\', ']', '^', '_', '`', '{', '|', '}', '~', 'i', 'me', 'my', 'myself', 'we', 'our', 'ours', 'ourselves', 'you', \"you're\", \"you've\", \"you'll\", \"you'd\", 'your', 'yours', 'yourself', 'yourselves', 'he', 'him', 'his', 'himself', 'she', \"she's\", 'her', 'hers', 'herself', 'it', \"it's\", 'its', 'itself', 'they', 'them', 'their', 'theirs', 'themselves', 'what', 'which', 'who', 'whom', 'this', 'that', \"that'll\", 'these', 'those', 'am', 'is', 'are', 'was', 'were', 'be', 'been', 'being', 'have', 'has', 'had', 'having', 'do', 'does', 'did', 'doing', 'a', 'an', 'the', 'and', 'but', 'if', 'or', 'because', 'as', 'until', 'while', 'of', 'at', 'by', 'for', 'with', 'about', 'against', 'between', 'into', 'through', 'during', 'before', 'after', 'above', 'below', 'to', 'from', 'up', 'down', 'in', 'out', 'on', 'off', 'over', 'under', 'again', 'further', 'then', 'once', 'here', 'there', 'when', 'where', 'why', 'how', 'all', 'any', 'both', 'each', 'few', 'more', 'most', 'other', 'some', 'such', 'no', 'nor', 'not', 'only', 'own', 'same', 'so', 'than', 'too', 'very', 's', 't', 'can', 'will', 'just', 'don', \"don't\", 'should', \"should've\", 'now', 'd', 'll', 'm', 'o', 're', 've', 'y', 'ain', 'aren', \"aren't\", 'couldn', \"couldn't\", 'didn', \"didn't\", 'doesn', \"doesn't\", 'hadn', \"hadn't\", 'hasn', \"hasn't\", 'haven', \"haven't\", 'isn', \"isn't\", 'ma', 'mightn', \"mightn't\", 'mustn', \"mustn't\", 'needn', \"needn't\", 'shan', \"shan't\", 'shouldn', \"shouldn't\", 'wasn', \"wasn't\", 'weren', \"weren't\", 'won', \"won't\", 'wouldn', \"wouldn't\"]\n",
      "\n",
      "\n",
      "MOVIE WORDS-----------------------\n",
      "['plot', ':', 'two', 'teen', 'couples', 'go', 'to', ...]\n",
      "\n",
      "\n",
      "710579\n"
     ]
    }
   ],
   "source": [
    "from nltk.corpus import stopwords\n",
    "from nltk.corpus import movie_reviews\n",
    "import string\n",
    "\n",
    "import string\n",
    "punctuation=list(string.punctuation)\n",
    "\n",
    "from nltk.corpus import stopwords\n",
    "swords=stopwords.words('english')\n",
    "\n",
    "useless=punctuation+swords\n",
    "print('USELESS WORDS----------------------')\n",
    "print(useless)\n",
    "print('\\n')\n",
    "\n",
    "moviewords=movie_reviews.words()\n",
    "print('MOVIE WORDS-----------------------')\n",
    "print(moviewords)\n",
    "print('\\n')\n",
    "\n",
    "filtered_words = [word for word in moviewords if not word in useless]\n",
    "print(len(filtered_words))\n",
    "#print(len(filtered_words)/1e6)"
   ]
  },
  {
   "cell_type": "code",
   "execution_count": 39,
   "id": "1125092c",
   "metadata": {},
   "outputs": [
    {
     "data": {
      "text/plain": [
       "[('film', 9517),\n",
       " ('one', 5852),\n",
       " ('movie', 5771),\n",
       " ('like', 3690),\n",
       " ('even', 2565)]"
      ]
     },
     "execution_count": 39,
     "metadata": {},
     "output_type": "execute_result"
    }
   ],
   "source": [
    "from collections import Counter\n",
    "word_counter = Counter(filtered_words)\n",
    "most_commond_words = word_counter.most_common()[:5]\n",
    "most_commond_words"
   ]
  },
  {
   "cell_type": "code",
   "execution_count": 42,
   "id": "06491634",
   "metadata": {},
   "outputs": [
    {
     "data": {
      "text/plain": [
       "[('gowtham', 2), ('is', 1)]"
      ]
     },
     "execution_count": 42,
     "metadata": {},
     "output_type": "execute_result"
    }
   ],
   "source": [
    "text='hi my name is gowtham gowtham is gowtham is gowtham is a good boy'\n",
    "\n",
    "so=['gowtham','is','gowtham']\n",
    "wc=Counter(so)\n",
    "mcw=wc.most_common()[:5]\n",
    "mcw"
   ]
  },
  {
   "cell_type": "code",
   "execution_count": null,
   "id": "c5fa369d",
   "metadata": {},
   "outputs": [],
   "source": []
  }
 ],
 "metadata": {
  "kernelspec": {
   "display_name": "Python 3 (ipykernel)",
   "language": "python",
   "name": "python3"
  },
  "language_info": {
   "codemirror_mode": {
    "name": "ipython",
    "version": 3
   },
   "file_extension": ".py",
   "mimetype": "text/x-python",
   "name": "python",
   "nbconvert_exporter": "python",
   "pygments_lexer": "ipython3",
   "version": "3.9.7"
  }
 },
 "nbformat": 4,
 "nbformat_minor": 5
}
